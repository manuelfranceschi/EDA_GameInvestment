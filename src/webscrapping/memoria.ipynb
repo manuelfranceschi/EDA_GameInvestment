{
 "cells": [
  {
   "attachments": {},
   "cell_type": "markdown",
   "metadata": {},
   "source": [
    "Hola! Este notebook está en proceso, aquí se mostrarán todos los pasos y criterios que he seguido para defender mi análisis :)"
   ]
  },
  {
   "cell_type": "code",
   "execution_count": 1,
   "metadata": {},
   "outputs": [
    {
     "name": "stdout",
     "output_type": "stream",
     "text": [
      "Hello World!\n"
     ]
    }
   ],
   "source": [
    "print(\"Hello World!\")"
   ]
  },
  {
   "cell_type": "code",
   "execution_count": 27,
   "metadata": {},
   "outputs": [],
   "source": [
    "from selenium import webdriver\n",
    "from selenium.webdriver.chrome.service import Service\n",
    "from selenium.webdriver.common.by import By\n",
    "# import urllib3 # urllib3 es un cliente HTTP potente y fácil de usar para Python.\n",
    "import re # Expresiones regulares \n",
    "import time\n",
    "import numpy as np\n",
    "import pandas as pd\n",
    "\n",
    "service = Service(executable_path='../webscrapping/chromedriver')\n",
    "options = webdriver.ChromeOptions()\n",
    "\n",
    "driver = webdriver.Chrome(service=service, options=options)\n",
    "\n"
   ]
  },
  {
   "cell_type": "code",
   "execution_count": 28,
   "metadata": {},
   "outputs": [],
   "source": [
    "options = webdriver.ChromeOptions()\n",
    "options.add_experimental_option(\"detach\", True)\n",
    "options.add_experimental_option(\"excludeSwitches\", [\"enable-automation\"])\n",
    "options.add_experimental_option('useAutomationExtension', False)\n",
    "options.add_argument(\"--disable-blink-features=AutomationControlled\")\n",
    "options.add_argument('--disable-extensions')\n",
    "options.add_argument('--no-sandbox')\n",
    "options.add_argument('--disable-infobars')\n",
    "options.add_argument('--disable-dev-shm-usage')\n",
    "options.add_argument('--disable-browser-side-navigation')\n",
    "options.add_argument('--disable-gpu')\n",
    "\n",
    "driver = webdriver.Chrome(options=options)\n",
    "driver.get(\"https://steamdb.info/\")\n",
    "#driver.execute_script(\"window.open('https://nowsecure.nl/', '_blank')\")\n",
    "#driver.switch_to.window(driver.window_handles[1])\n",
    "\n",
    "#driver.switch_to.frame(0)\n",
    "\n",
    "#driver.find_element(By.XPATH, '//*[@id=\"challenge-stage\"]/div/label/input').click()"
   ]
  },
  {
   "cell_type": "code",
   "execution_count": 29,
   "metadata": {},
   "outputs": [],
   "source": [
    "games_info = pd.read_csv(\"../data/Steam_2024_bestRevenue_1500.csv\")\n",
    "steamIDs = games_info[\"steamId\"].values\n",
    "games_data = {\n",
    "    \"AppID\": [],\n",
    "    \"reviewScore\": [],\n",
    "    \"currentPlayers\": [],\n",
    "    \"dayPeakPlayers\": [],\n",
    "    \"allTimePeakPlayers\": []\n",
    "}"
   ]
  },
  {
   "cell_type": "code",
   "execution_count": 30,
   "metadata": {},
   "outputs": [
    {
     "name": "stderr",
     "output_type": "stream",
     "text": [
      "<>:23: SyntaxWarning: invalid escape sequence '\\d'\n",
      "<>:23: SyntaxWarning: invalid escape sequence '\\d'\n",
      "/var/folders/d2/nwybmn31251d4d76_gyl2w740000gn/T/ipykernel_63566/552392806.py:23: SyntaxWarning: invalid escape sequence '\\d'\n",
      "  review = re.sub('[^\\d\\.]', '', review_raw)\n"
     ]
    },
    {
     "name": "stdout",
     "output_type": "stream",
     "text": [
      "iteracion 0\n",
      "iteracion 1\n",
      "iteracion 2\n",
      "iteracion 3\n",
      "iteracion 4\n",
      "iteracion 5\n"
     ]
    },
    {
     "name": "stderr",
     "output_type": "stream",
     "text": [
      "/var/folders/d2/nwybmn31251d4d76_gyl2w740000gn/T/ipykernel_63566/552392806.py:23: SyntaxWarning: invalid escape sequence '\\d'\n",
      "  review = re.sub('[^\\d\\.]', '', review_raw)\n"
     ]
    },
    {
     "ename": "NoSuchElementException",
     "evalue": "Message: no such element: Unable to locate element: {\"method\":\"xpath\",\"selector\":\"/html/body/div[4]/div[1]/div/div[2]/div/div[1]/nav/a[2]\"}\n  (Session info: chrome=129.0.6668.101); For documentation on this error, please visit: https://www.selenium.dev/documentation/webdriver/troubleshooting/errors#no-such-element-exception\nStacktrace:\n0   chromedriver                        0x00000001012cc500 cxxbridge1$str$ptr + 1917112\n1   chromedriver                        0x00000001012c4890 cxxbridge1$str$ptr + 1885256\n2   chromedriver                        0x0000000100ed4538 cxxbridge1$string$len + 89424\n3   chromedriver                        0x0000000100f18878 cxxbridge1$string$len + 368784\n4   chromedriver                        0x0000000100f52b7c cxxbridge1$string$len + 607124\n5   chromedriver                        0x0000000100f0d374 cxxbridge1$string$len + 322444\n6   chromedriver                        0x0000000100f0dfc4 cxxbridge1$string$len + 325596\n7   chromedriver                        0x0000000101293d2c cxxbridge1$str$ptr + 1685732\n8   chromedriver                        0x0000000101298530 cxxbridge1$str$ptr + 1704168\n9   chromedriver                        0x0000000101278e08 cxxbridge1$str$ptr + 1575360\n10  chromedriver                        0x0000000101298e00 cxxbridge1$str$ptr + 1706424\n11  chromedriver                        0x0000000101269f94 cxxbridge1$str$ptr + 1514316\n12  chromedriver                        0x00000001012b562c cxxbridge1$str$ptr + 1823204\n13  chromedriver                        0x00000001012b57ac cxxbridge1$str$ptr + 1823588\n14  chromedriver                        0x00000001012c4530 cxxbridge1$str$ptr + 1884392\n15  libsystem_pthread.dylib             0x0000000194ceef94 _pthread_start + 136\n16  libsystem_pthread.dylib             0x0000000194ce9d34 thread_start + 8\n",
     "output_type": "error",
     "traceback": [
      "\u001b[0;31m---------------------------------------------------------------------------\u001b[0m",
      "\u001b[0;31mNoSuchElementException\u001b[0m                    Traceback (most recent call last)",
      "Cell \u001b[0;32mIn[30], line 14\u001b[0m\n\u001b[1;32m     12\u001b[0m time\u001b[39m.\u001b[39msleep(np\u001b[39m.\u001b[39mrandom\u001b[39m.\u001b[39mrandint(\u001b[39m1\u001b[39m,\u001b[39m2\u001b[39m))\n\u001b[1;32m     13\u001b[0m \u001b[39m# Cargamos los charts de jugadores\u001b[39;00m\n\u001b[0;32m---> 14\u001b[0m loadCharts \u001b[39m=\u001b[39m driver\u001b[39m.\u001b[39;49mfind_element(By\u001b[39m.\u001b[39;49mXPATH, \u001b[39m'\u001b[39;49m\u001b[39m/html/body/div[4]/div[1]/div/div[2]/div/div[1]/nav/a[2]\u001b[39;49m\u001b[39m'\u001b[39;49m)\n\u001b[1;32m     15\u001b[0m time\u001b[39m.\u001b[39msleep(np\u001b[39m.\u001b[39mrandom\u001b[39m.\u001b[39mrandint(\u001b[39m1\u001b[39m,\u001b[39m2\u001b[39m))\n\u001b[1;32m     16\u001b[0m loadCharts\u001b[39m.\u001b[39mclick()\n",
      "File \u001b[0;32m/Library/Frameworks/Python.framework/Versions/3.12/lib/python3.12/site-packages/selenium/webdriver/remote/webdriver.py:748\u001b[0m, in \u001b[0;36mWebDriver.find_element\u001b[0;34m(self, by, value)\u001b[0m\n\u001b[1;32m    745\u001b[0m     by \u001b[39m=\u001b[39m By\u001b[39m.\u001b[39mCSS_SELECTOR\n\u001b[1;32m    746\u001b[0m     value \u001b[39m=\u001b[39m \u001b[39mf\u001b[39m\u001b[39m'\u001b[39m\u001b[39m[name=\u001b[39m\u001b[39m\"\u001b[39m\u001b[39m{\u001b[39;00mvalue\u001b[39m}\u001b[39;00m\u001b[39m\"\u001b[39m\u001b[39m]\u001b[39m\u001b[39m'\u001b[39m\n\u001b[0;32m--> 748\u001b[0m \u001b[39mreturn\u001b[39;00m \u001b[39mself\u001b[39;49m\u001b[39m.\u001b[39;49mexecute(Command\u001b[39m.\u001b[39;49mFIND_ELEMENT, {\u001b[39m\"\u001b[39;49m\u001b[39musing\u001b[39;49m\u001b[39m\"\u001b[39;49m: by, \u001b[39m\"\u001b[39;49m\u001b[39mvalue\u001b[39;49m\u001b[39m\"\u001b[39;49m: value})[\u001b[39m\"\u001b[39m\u001b[39mvalue\u001b[39m\u001b[39m\"\u001b[39m]\n",
      "File \u001b[0;32m/Library/Frameworks/Python.framework/Versions/3.12/lib/python3.12/site-packages/selenium/webdriver/remote/webdriver.py:354\u001b[0m, in \u001b[0;36mWebDriver.execute\u001b[0;34m(self, driver_command, params)\u001b[0m\n\u001b[1;32m    352\u001b[0m response \u001b[39m=\u001b[39m \u001b[39mself\u001b[39m\u001b[39m.\u001b[39mcommand_executor\u001b[39m.\u001b[39mexecute(driver_command, params)\n\u001b[1;32m    353\u001b[0m \u001b[39mif\u001b[39;00m response:\n\u001b[0;32m--> 354\u001b[0m     \u001b[39mself\u001b[39;49m\u001b[39m.\u001b[39;49merror_handler\u001b[39m.\u001b[39;49mcheck_response(response)\n\u001b[1;32m    355\u001b[0m     response[\u001b[39m\"\u001b[39m\u001b[39mvalue\u001b[39m\u001b[39m\"\u001b[39m] \u001b[39m=\u001b[39m \u001b[39mself\u001b[39m\u001b[39m.\u001b[39m_unwrap_value(response\u001b[39m.\u001b[39mget(\u001b[39m\"\u001b[39m\u001b[39mvalue\u001b[39m\u001b[39m\"\u001b[39m, \u001b[39mNone\u001b[39;00m))\n\u001b[1;32m    356\u001b[0m     \u001b[39mreturn\u001b[39;00m response\n",
      "File \u001b[0;32m/Library/Frameworks/Python.framework/Versions/3.12/lib/python3.12/site-packages/selenium/webdriver/remote/errorhandler.py:229\u001b[0m, in \u001b[0;36mErrorHandler.check_response\u001b[0;34m(self, response)\u001b[0m\n\u001b[1;32m    227\u001b[0m         alert_text \u001b[39m=\u001b[39m value[\u001b[39m\"\u001b[39m\u001b[39malert\u001b[39m\u001b[39m\"\u001b[39m]\u001b[39m.\u001b[39mget(\u001b[39m\"\u001b[39m\u001b[39mtext\u001b[39m\u001b[39m\"\u001b[39m)\n\u001b[1;32m    228\u001b[0m     \u001b[39mraise\u001b[39;00m exception_class(message, screen, stacktrace, alert_text)  \u001b[39m# type: ignore[call-arg]  # mypy is not smart enough here\u001b[39;00m\n\u001b[0;32m--> 229\u001b[0m \u001b[39mraise\u001b[39;00m exception_class(message, screen, stacktrace)\n",
      "\u001b[0;31mNoSuchElementException\u001b[0m: Message: no such element: Unable to locate element: {\"method\":\"xpath\",\"selector\":\"/html/body/div[4]/div[1]/div/div[2]/div/div[1]/nav/a[2]\"}\n  (Session info: chrome=129.0.6668.101); For documentation on this error, please visit: https://www.selenium.dev/documentation/webdriver/troubleshooting/errors#no-such-element-exception\nStacktrace:\n0   chromedriver                        0x00000001012cc500 cxxbridge1$str$ptr + 1917112\n1   chromedriver                        0x00000001012c4890 cxxbridge1$str$ptr + 1885256\n2   chromedriver                        0x0000000100ed4538 cxxbridge1$string$len + 89424\n3   chromedriver                        0x0000000100f18878 cxxbridge1$string$len + 368784\n4   chromedriver                        0x0000000100f52b7c cxxbridge1$string$len + 607124\n5   chromedriver                        0x0000000100f0d374 cxxbridge1$string$len + 322444\n6   chromedriver                        0x0000000100f0dfc4 cxxbridge1$string$len + 325596\n7   chromedriver                        0x0000000101293d2c cxxbridge1$str$ptr + 1685732\n8   chromedriver                        0x0000000101298530 cxxbridge1$str$ptr + 1704168\n9   chromedriver                        0x0000000101278e08 cxxbridge1$str$ptr + 1575360\n10  chromedriver                        0x0000000101298e00 cxxbridge1$str$ptr + 1706424\n11  chromedriver                        0x0000000101269f94 cxxbridge1$str$ptr + 1514316\n12  chromedriver                        0x00000001012b562c cxxbridge1$str$ptr + 1823204\n13  chromedriver                        0x00000001012b57ac cxxbridge1$str$ptr + 1823588\n14  chromedriver                        0x00000001012c4530 cxxbridge1$str$ptr + 1884392\n15  libsystem_pthread.dylib             0x0000000194ceef94 _pthread_start + 136\n16  libsystem_pthread.dylib             0x0000000194ce9d34 thread_start + 8\n"
     ]
    }
   ],
   "source": [
    "n = 0\n",
    "for id in steamIDs:\n",
    "    print(f\"iteracion {n}\")\n",
    "    # Busca el juego por su ID\n",
    "    driver.get(\"https://steamdb.info/\")\n",
    "    loadMore = driver.find_element(By.XPATH, '/html/body/div[1]/div[2]/form/input[2]')\n",
    "    time.sleep(np.random.randint(2,3))\n",
    "    loadMore.click()\n",
    "    time.sleep(np.random.randint(2,3))\n",
    "    loadMore.send_keys(str(id))\n",
    "    loadMore.submit()\n",
    "    time.sleep(np.random.randint(1,2))\n",
    "    # Cargamos los charts de jugadores\n",
    "    loadCharts = driver.find_element(By.XPATH, '/html/body/div[4]/div[1]/div/div[2]/div/div[1]/nav/a[2]')\n",
    "    time.sleep(np.random.randint(1,2))\n",
    "    loadCharts.click()\n",
    "    # Buscamos los datos\n",
    "    review_raw = driver.find_element(By.XPATH, '//*[@id=\"js-reviews-button\"]/div').text\n",
    "    current_player_game_raw = driver.find_element(By.XPATH, '//*[@id=\"charts\"]/ul[1]/li[2]/strong').text\n",
    "    day_peak_game_raw = driver.find_element(By.XPATH, '//*[@id=\"charts\"]/ul[1]/li[3]/strong').text\n",
    "    alltime_peak_game_raw = driver.find_element(By.XPATH, '//*[@id=\"charts\"]/ul[1]/li[4]/strong').text\n",
    "    # Limpieza para meterlos en el diccionario\n",
    "    review = re.sub('[^\\d\\.]', '', review_raw)\n",
    "    current_player_game = current_player_game_raw.replace(\",\", \".\")\n",
    "    day_peak_game = day_peak_game_raw.replace(\",\", \".\")\n",
    "    alltime_peak_game = alltime_peak_game_raw.replace(\",\", \".\")\n",
    "    # Asignamos valores \n",
    "    games_data[\"AppID\"].append(int(id))\n",
    "    games_data[\"reviewScore\"].append(review)\n",
    "    games_data[\"currentPlayers\"].append(current_player_game)\n",
    "    games_data[\"dayPeakPlayers\"].append(day_peak_game)\n",
    "    games_data[\"allTimePeakPlayers\"].append(alltime_peak_game)\n",
    "    time.sleep(np.random.randint(5,6))\n",
    "    n = n + 1"
   ]
  },
  {
   "cell_type": "code",
   "execution_count": 45,
   "metadata": {},
   "outputs": [
    {
     "name": "stderr",
     "output_type": "stream",
     "text": [
      "<>:14: SyntaxWarning: invalid escape sequence '\\d'\n",
      "<>:14: SyntaxWarning: invalid escape sequence '\\d'\n",
      "/var/folders/d2/nwybmn31251d4d76_gyl2w740000gn/T/ipykernel_62311/2073714534.py:14: SyntaxWarning: invalid escape sequence '\\d'\n",
      "  review = re.sub('[^\\d\\.]', '', review_raw)\n"
     ]
    },
    {
     "name": "stdout",
     "output_type": "stream",
     "text": [
      "nueva iteracion\n",
      "nueva iteracion\n",
      "nueva iteracion\n",
      "nueva iteracion\n",
      "nueva iteracion\n",
      "nueva iteracion\n"
     ]
    },
    {
     "name": "stderr",
     "output_type": "stream",
     "text": [
      "/var/folders/d2/nwybmn31251d4d76_gyl2w740000gn/T/ipykernel_62311/2073714534.py:14: SyntaxWarning: invalid escape sequence '\\d'\n",
      "  review = re.sub('[^\\d\\.]', '', review_raw)\n"
     ]
    },
    {
     "ename": "NoSuchElementException",
     "evalue": "Message: no such element: Unable to locate element: {\"method\":\"xpath\",\"selector\":\"/html/body/div[4]/div[1]/div/div[2]/div/div[1]/nav/a[2]\"}\n  (Session info: chrome=129.0.6668.101); For documentation on this error, please visit: https://www.selenium.dev/documentation/webdriver/troubleshooting/errors#no-such-element-exception\nStacktrace:\n0   chromedriver                        0x0000000100fdc500 cxxbridge1$str$ptr + 1917112\n1   chromedriver                        0x0000000100fd4890 cxxbridge1$str$ptr + 1885256\n2   chromedriver                        0x0000000100be4538 cxxbridge1$string$len + 89424\n3   chromedriver                        0x0000000100c28878 cxxbridge1$string$len + 368784\n4   chromedriver                        0x0000000100c62b7c cxxbridge1$string$len + 607124\n5   chromedriver                        0x0000000100c1d374 cxxbridge1$string$len + 322444\n6   chromedriver                        0x0000000100c1dfc4 cxxbridge1$string$len + 325596\n7   chromedriver                        0x0000000100fa3d2c cxxbridge1$str$ptr + 1685732\n8   chromedriver                        0x0000000100fa8530 cxxbridge1$str$ptr + 1704168\n9   chromedriver                        0x0000000100f88e08 cxxbridge1$str$ptr + 1575360\n10  chromedriver                        0x0000000100fa8e00 cxxbridge1$str$ptr + 1706424\n11  chromedriver                        0x0000000100f79f94 cxxbridge1$str$ptr + 1514316\n12  chromedriver                        0x0000000100fc562c cxxbridge1$str$ptr + 1823204\n13  chromedriver                        0x0000000100fc57ac cxxbridge1$str$ptr + 1823588\n14  chromedriver                        0x0000000100fd4530 cxxbridge1$str$ptr + 1884392\n15  libsystem_pthread.dylib             0x0000000194ceef94 _pthread_start + 136\n16  libsystem_pthread.dylib             0x0000000194ce9d34 thread_start + 8\n",
     "output_type": "error",
     "traceback": [
      "\u001b[0;31m---------------------------------------------------------------------------\u001b[0m",
      "\u001b[0;31mNoSuchElementException\u001b[0m                    Traceback (most recent call last)",
      "Cell \u001b[0;32mIn[45], line 6\u001b[0m\n\u001b[1;32m      4\u001b[0m driver\u001b[39m.\u001b[39mget(\u001b[39mf\u001b[39m\u001b[39m\"\u001b[39m\u001b[39mhttps://steamdb.info/app/\u001b[39m\u001b[39m{\u001b[39;00m\u001b[39mid\u001b[39m\u001b[39m}\u001b[39;00m\u001b[39m/charts/\u001b[39m\u001b[39m\"\u001b[39m)\n\u001b[1;32m      5\u001b[0m \u001b[39m# Cargamos los charts de jugadores\u001b[39;00m\n\u001b[0;32m----> 6\u001b[0m loadCharts \u001b[39m=\u001b[39m driver\u001b[39m.\u001b[39;49mfind_element(By\u001b[39m.\u001b[39;49mXPATH, \u001b[39m'\u001b[39;49m\u001b[39m/html/body/div[4]/div[1]/div/div[2]/div/div[1]/nav/a[2]\u001b[39;49m\u001b[39m'\u001b[39;49m)\n\u001b[1;32m      7\u001b[0m loadCharts\u001b[39m.\u001b[39mclick()\n\u001b[1;32m      8\u001b[0m \u001b[39m# Buscamos los datos\u001b[39;00m\n",
      "File \u001b[0;32m/Library/Frameworks/Python.framework/Versions/3.12/lib/python3.12/site-packages/selenium/webdriver/remote/webdriver.py:748\u001b[0m, in \u001b[0;36mWebDriver.find_element\u001b[0;34m(self, by, value)\u001b[0m\n\u001b[1;32m    745\u001b[0m     by \u001b[39m=\u001b[39m By\u001b[39m.\u001b[39mCSS_SELECTOR\n\u001b[1;32m    746\u001b[0m     value \u001b[39m=\u001b[39m \u001b[39mf\u001b[39m\u001b[39m'\u001b[39m\u001b[39m[name=\u001b[39m\u001b[39m\"\u001b[39m\u001b[39m{\u001b[39;00mvalue\u001b[39m}\u001b[39;00m\u001b[39m\"\u001b[39m\u001b[39m]\u001b[39m\u001b[39m'\u001b[39m\n\u001b[0;32m--> 748\u001b[0m \u001b[39mreturn\u001b[39;00m \u001b[39mself\u001b[39;49m\u001b[39m.\u001b[39;49mexecute(Command\u001b[39m.\u001b[39;49mFIND_ELEMENT, {\u001b[39m\"\u001b[39;49m\u001b[39musing\u001b[39;49m\u001b[39m\"\u001b[39;49m: by, \u001b[39m\"\u001b[39;49m\u001b[39mvalue\u001b[39;49m\u001b[39m\"\u001b[39;49m: value})[\u001b[39m\"\u001b[39m\u001b[39mvalue\u001b[39m\u001b[39m\"\u001b[39m]\n",
      "File \u001b[0;32m/Library/Frameworks/Python.framework/Versions/3.12/lib/python3.12/site-packages/selenium/webdriver/remote/webdriver.py:354\u001b[0m, in \u001b[0;36mWebDriver.execute\u001b[0;34m(self, driver_command, params)\u001b[0m\n\u001b[1;32m    352\u001b[0m response \u001b[39m=\u001b[39m \u001b[39mself\u001b[39m\u001b[39m.\u001b[39mcommand_executor\u001b[39m.\u001b[39mexecute(driver_command, params)\n\u001b[1;32m    353\u001b[0m \u001b[39mif\u001b[39;00m response:\n\u001b[0;32m--> 354\u001b[0m     \u001b[39mself\u001b[39;49m\u001b[39m.\u001b[39;49merror_handler\u001b[39m.\u001b[39;49mcheck_response(response)\n\u001b[1;32m    355\u001b[0m     response[\u001b[39m\"\u001b[39m\u001b[39mvalue\u001b[39m\u001b[39m\"\u001b[39m] \u001b[39m=\u001b[39m \u001b[39mself\u001b[39m\u001b[39m.\u001b[39m_unwrap_value(response\u001b[39m.\u001b[39mget(\u001b[39m\"\u001b[39m\u001b[39mvalue\u001b[39m\u001b[39m\"\u001b[39m, \u001b[39mNone\u001b[39;00m))\n\u001b[1;32m    356\u001b[0m     \u001b[39mreturn\u001b[39;00m response\n",
      "File \u001b[0;32m/Library/Frameworks/Python.framework/Versions/3.12/lib/python3.12/site-packages/selenium/webdriver/remote/errorhandler.py:229\u001b[0m, in \u001b[0;36mErrorHandler.check_response\u001b[0;34m(self, response)\u001b[0m\n\u001b[1;32m    227\u001b[0m         alert_text \u001b[39m=\u001b[39m value[\u001b[39m\"\u001b[39m\u001b[39malert\u001b[39m\u001b[39m\"\u001b[39m]\u001b[39m.\u001b[39mget(\u001b[39m\"\u001b[39m\u001b[39mtext\u001b[39m\u001b[39m\"\u001b[39m)\n\u001b[1;32m    228\u001b[0m     \u001b[39mraise\u001b[39;00m exception_class(message, screen, stacktrace, alert_text)  \u001b[39m# type: ignore[call-arg]  # mypy is not smart enough here\u001b[39;00m\n\u001b[0;32m--> 229\u001b[0m \u001b[39mraise\u001b[39;00m exception_class(message, screen, stacktrace)\n",
      "\u001b[0;31mNoSuchElementException\u001b[0m: Message: no such element: Unable to locate element: {\"method\":\"xpath\",\"selector\":\"/html/body/div[4]/div[1]/div/div[2]/div/div[1]/nav/a[2]\"}\n  (Session info: chrome=129.0.6668.101); For documentation on this error, please visit: https://www.selenium.dev/documentation/webdriver/troubleshooting/errors#no-such-element-exception\nStacktrace:\n0   chromedriver                        0x0000000100fdc500 cxxbridge1$str$ptr + 1917112\n1   chromedriver                        0x0000000100fd4890 cxxbridge1$str$ptr + 1885256\n2   chromedriver                        0x0000000100be4538 cxxbridge1$string$len + 89424\n3   chromedriver                        0x0000000100c28878 cxxbridge1$string$len + 368784\n4   chromedriver                        0x0000000100c62b7c cxxbridge1$string$len + 607124\n5   chromedriver                        0x0000000100c1d374 cxxbridge1$string$len + 322444\n6   chromedriver                        0x0000000100c1dfc4 cxxbridge1$string$len + 325596\n7   chromedriver                        0x0000000100fa3d2c cxxbridge1$str$ptr + 1685732\n8   chromedriver                        0x0000000100fa8530 cxxbridge1$str$ptr + 1704168\n9   chromedriver                        0x0000000100f88e08 cxxbridge1$str$ptr + 1575360\n10  chromedriver                        0x0000000100fa8e00 cxxbridge1$str$ptr + 1706424\n11  chromedriver                        0x0000000100f79f94 cxxbridge1$str$ptr + 1514316\n12  chromedriver                        0x0000000100fc562c cxxbridge1$str$ptr + 1823204\n13  chromedriver                        0x0000000100fc57ac cxxbridge1$str$ptr + 1823588\n14  chromedriver                        0x0000000100fd4530 cxxbridge1$str$ptr + 1884392\n15  libsystem_pthread.dylib             0x0000000194ceef94 _pthread_start + 136\n16  libsystem_pthread.dylib             0x0000000194ce9d34 thread_start + 8\n"
     ]
    }
   ],
   "source": [
    "for id in steamIDs[:10]:\n",
    "    print(\"nueva iteracion\")\n",
    "    # Busca el juego por su ID\n",
    "    driver.get(f\"https://steamdb.info/app/{id}/charts/\")\n",
    "    # Cargamos los charts de jugadores\n",
    "    loadCharts = driver.find_element(By.XPATH, '/html/body/div[4]/div[1]/div/div[2]/div/div[1]/nav/a[2]')\n",
    "    loadCharts.click()\n",
    "    # Buscamos los datos\n",
    "    review_raw = driver.find_element(By.XPATH, '//*[@id=\"js-reviews-button\"]/div').text\n",
    "    current_player_game_raw = driver.find_element(By.XPATH, '//*[@id=\"charts\"]/ul[1]/li[2]/strong').text\n",
    "    day_peak_game_raw = driver.find_element(By.XPATH, '//*[@id=\"charts\"]/ul[1]/li[3]/strong').text\n",
    "    alltime_peak_game_raw = driver.find_element(By.XPATH, '//*[@id=\"charts\"]/ul[1]/li[4]/strong').text\n",
    "    # Limpieza para meterlos en el diccionario\n",
    "    review = re.sub('[^\\d\\.]', '', review_raw)\n",
    "    current_player_game = current_player_game_raw.replace(\",\", \".\")\n",
    "    day_peak_game = day_peak_game_raw.replace(\",\", \".\")\n",
    "    alltime_peak_game = alltime_peak_game_raw.replace(\",\", \".\")\n",
    "    # Asignamos valores \n",
    "    games_data[\"AppID\"].append(int(id))\n",
    "    games_data[\"reviewScore\"].append(review)\n",
    "    games_data[\"currentPlayers\"].append(current_player_game)\n",
    "    games_data[\"dayPeakPlayers\"].append(day_peak_game)\n",
    "    games_data[\"allTimePeakPlayers\"].append(alltime_peak_game)\n",
    "    time.sleep(1)"
   ]
  },
  {
   "cell_type": "code",
   "execution_count": 25,
   "metadata": {},
   "outputs": [
    {
     "data": {
      "text/plain": [
       "{'AppID': [2315690,\n",
       "  2291060,\n",
       "  1575940,\n",
       "  2315690,\n",
       "  2291060,\n",
       "  1575940,\n",
       "  1859910,\n",
       "  1875830,\n",
       "  2646460,\n",
       "  352720,\n",
       "  1812450,\n",
       "  1377380,\n",
       "  463530],\n",
       " 'reviewScore': ['70.44',\n",
       "  '61.76',\n",
       "  '83.66',\n",
       "  '70.44',\n",
       "  '61.76',\n",
       "  '83.66',\n",
       "  '75.88',\n",
       "  '89.42',\n",
       "  '76.88',\n",
       "  '78.68',\n",
       "  '76.03',\n",
       "  '76.53',\n",
       "  '91.84'],\n",
       " 'currentPlayers': ['1.156',\n",
       "  '1.594',\n",
       "  '1.334',\n",
       "  '',\n",
       "  '973',\n",
       "  '1.444',\n",
       "  '533',\n",
       "  '1.023',\n",
       "  '3.066',\n",
       "  '161',\n",
       "  '1.648',\n",
       "  '',\n",
       "  '570'],\n",
       " 'dayPeakPlayers': ['1.582',\n",
       "  '2.654',\n",
       "  '2.123',\n",
       "  '',\n",
       "  '2.565',\n",
       "  '2.123',\n",
       "  '987',\n",
       "  '1.916',\n",
       "  '3.863',\n",
       "  '232',\n",
       "  '2.108',\n",
       "  '',\n",
       "  '764'],\n",
       " 'allTimePeakPlayers': ['8.789',\n",
       "  '18.641',\n",
       "  '13.394',\n",
       "  '',\n",
       "  '18.641',\n",
       "  '13.394',\n",
       "  '24.278',\n",
       "  '21.749',\n",
       "  '46.833',\n",
       "  '2.825',\n",
       "  '15.263',\n",
       "  '',\n",
       "  '6.367']}"
      ]
     },
     "execution_count": 25,
     "metadata": {},
     "output_type": "execute_result"
    }
   ],
   "source": [
    "games_data"
   ]
  },
  {
   "cell_type": "code",
   "execution_count": null,
   "metadata": {},
   "outputs": [],
   "source": [
    "# funcion web scrapping"
   ]
  },
  {
   "cell_type": "code",
   "execution_count": null,
   "metadata": {},
   "outputs": [],
   "source": [
    "def funcion_1():\n",
    "    n = 0\n",
    "    while n <= 1500:\n",
    "        n = n+1\n",
    "        print(n)\n",
    "        if n <=100:\n",
    "            funcion_web() # funcion web scrapping\n",
    "            n = n+1\n",
    "        else:\n",
    "            \n",
    "            funcion_1()"
   ]
  }
 ],
 "metadata": {
  "kernelspec": {
   "display_name": "Python 3",
   "language": "python",
   "name": "python3"
  },
  "language_info": {
   "codemirror_mode": {
    "name": "ipython",
    "version": 3
   },
   "file_extension": ".py",
   "mimetype": "text/x-python",
   "name": "python",
   "nbconvert_exporter": "python",
   "pygments_lexer": "ipython3",
   "version": "3.12.6"
  },
  "orig_nbformat": 4
 },
 "nbformat": 4,
 "nbformat_minor": 2
}
